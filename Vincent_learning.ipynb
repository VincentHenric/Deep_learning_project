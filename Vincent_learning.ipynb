{
 "cells": [
  {
   "cell_type": "code",
   "execution_count": 1,
   "metadata": {},
   "outputs": [],
   "source": [
    "# change to tf 2.0 (run on colab)\n",
    "# !pip uninstall tensorflow\n",
    "# !pip install tensorflow==2.0.0"
   ]
  },
  {
   "cell_type": "code",
   "execution_count": null,
   "metadata": {},
   "outputs": [],
   "source": [
    "# Load git code\n",
    "!git clone -s https://VincentHenric:@github.com/VincentHenric/Deep_learning_project.git\n",
    "%cd Deep_learning_project\n",
    "!ls\n",
    "\n",
    "from google.colab import files"
   ]
  },
  {
   "cell_type": "code",
   "execution_count": null,
   "metadata": {},
   "outputs": [],
   "source": [
    "# To use dynamic batches\n",
    "!pip install pybind11\n",
    "!./compile.sh"
   ]
  },
  {
   "cell_type": "code",
   "execution_count": null,
   "metadata": {},
   "outputs": [],
   "source": [
    "# Access Drive\n",
    "from google.colab import drive\n",
    "drive.mount('/content/gdrive')\n",
    "\n",
    "# Move data to working folder\n",
    "%mv -v \"../content/gdrive/My Drive/deep_learning_project/*\" \"/content/Deep_learning_project/\""
   ]
  },
  {
   "cell_type": "code",
   "execution_count": null,
   "metadata": {},
   "outputs": [],
   "source": [
    "%load_ext autoreload\n",
    "%autoreload 1\n",
    "\n",
    "import numpy as np\n",
    "from matplotlib import pyplot as plt\n",
    "\n",
    "import os\n",
    "import tensorflow as tf\n",
    "import tensorflow.keras as keras\n",
    "from tensorflow.keras import layers\n",
    "from tesnroflow.keras.callbacks import ModelCheckpoint\n",
    "import golois\n",
    "print(tf.__version__)"
   ]
  },
  {
   "cell_type": "code",
   "execution_count": null,
   "metadata": {},
   "outputs": [],
   "source": [
    "PLANES = 8\n",
    "MOVES = 361\n",
    "DYNAMIC_BATCH = False\n",
    "model_name = \"\""
   ]
  },
  {
   "cell_type": "code",
   "execution_count": null,
   "metadata": {},
   "outputs": [],
   "source": [
    "if DYNAMIC_BATCH:\n",
    "    N = 100000\n",
    "    input_data = np.random.randint(2, size=(N, 19, 19, PLANES))\n",
    "    input_data = input_data.astype ('float32')\n",
    "    \n",
    "    policy = np.random.randint(MOVES, size=(N,))\n",
    "    policy = keras.utils.to_categorical (policy)\n",
    "    \n",
    "    value = np.random.randint(2, size=(N,))\n",
    "    value = value.astype ('float32')\n",
    "    \n",
    "    end = np.random.randint(2, size=(N, 19, 19, 2))\n",
    "    end = end.astype ('float32')\n",
    "\n",
    "    golois.getBatch (input_data, policy, value, end)\n",
    "else:\n",
    "    input_data = np.load ('input_data.npy')\n",
    "    policy = np.load ('policy.npy')\n",
    "    value = np.load ('value.npy')\n",
    "    end = np.load ('end.npy')\n",
    "\n",
    "models = os.listdir('/models')\n",
    "models = [file[:-3] for file in models if file.endswith('.h5')]\n",
    "if model_name in models:\n",
    "    model = model.load('{}.h5'.format(model_name))\n",
    "else:\n",
    "    input = keras.Input(shape=(19, 19, PLANES), name='board')\n",
    "    x = layers.Conv2D(32, 3, activation='relu', padding='same')(input)\n",
    "    x = layers.Conv2D(32, 3, activation='relu', padding='same')(x)\n",
    "    x = layers.Conv2D(32, 3, activation='relu', padding='same')(x)\n",
    "    x = layers.Conv2D(32, 3, activation='relu', padding='same')(x)\n",
    "    x = layers.Conv2D(32, 3, activation='relu', padding='same')(x)\n",
    "    x = layers.Conv2D(32, 3, activation='relu', padding='same')(x)\n",
    "    policy_head = layers.Conv2D(1, 3, activation='relu', padding='same')(x)\n",
    "    policy_head = layers.Flatten()(policy_head)\n",
    "    policy_head = layers.Dense(MOVES, activation='softmax', name='policy')(policy_head)\n",
    "    value_head = layers.Flatten()(x)\n",
    "    value_head = layers.Dense(1, activation='sigmoid', name='value')(value_head)\n",
    "\n",
    "model = keras.Model(inputs=input, outputs=[policy_head, value_head])\n",
    "\n",
    "model.summary ()\n",
    "\n",
    "model.compile(optimizer=keras.optimizers.SGD(lr=0.1),\n",
    "              loss={'value': 'mse', 'policy': 'categorical_crossentropy'})"
   ]
  },
  {
   "cell_type": "code",
   "execution_count": null,
   "metadata": {},
   "outputs": [],
   "source": [
    "checkpointer = ModelCheckpoint(filepath='models/{}.h5'.format(model_name),\n",
    "                                   verbose=1,\n",
    "                                   save_best_only=True)\n",
    "\n",
    "print('Start learning')\n",
    "model.fit(input_data, {'policy': policy, 'value': value},\n",
    "          epochs=20, batch_size=128, validation_split=0.1,\n",
    "          callbacks=[checkpointer])"
   ]
  },
  {
   "cell_type": "code",
   "execution_count": null,
   "metadata": {},
   "outputs": [],
   "source": []
  }
 ],
 "metadata": {
  "kernelspec": {
   "display_name": "Python 3",
   "language": "python",
   "name": "python3"
  },
  "language_info": {
   "codemirror_mode": {
    "name": "ipython",
    "version": 3
   },
   "file_extension": ".py",
   "mimetype": "text/x-python",
   "name": "python",
   "nbconvert_exporter": "python",
   "pygments_lexer": "ipython3",
   "version": "3.7.4"
  }
 },
 "nbformat": 4,
 "nbformat_minor": 2
}
