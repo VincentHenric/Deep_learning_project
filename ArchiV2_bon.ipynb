{
  "nbformat": 4,
  "nbformat_minor": 0,
  "metadata": {
    "colab": {
      "name": "ArchiV2_bon.ipynb",
      "provenance": [],
      "collapsed_sections": [],
      "include_colab_link": true
    },
    "kernelspec": {
      "name": "python3",
      "display_name": "Python 3"
    }
  },
  "cells": [
    {
      "cell_type": "markdown",
      "metadata": {
        "id": "view-in-github",
        "colab_type": "text"
      },
      "source": [
        "<a href=\"https://colab.research.google.com/github/VincentHenric/Deep_learning_project/blob/master/ArchiV2_bon.ipynb\" target=\"_parent\"><img src=\"https://colab.research.google.com/assets/colab-badge.svg\" alt=\"Open In Colab\"/></a>"
      ]
    },
    {
      "cell_type": "code",
      "metadata": {
        "id": "lrnqHXHIImKt",
        "colab_type": "code",
        "colab": {}
      },
      "source": [
        "from tensorflow.keras.layers import Dense, Flatten, Input, Dropout, MaxPooling2D, Conv2D, BatchNormalization, Activation, AveragePooling2D, ZeroPadding2D\n",
        "from tensorflow.keras import regularizers\n",
        "\n",
        "import os\n",
        "import datetime\n",
        "#x = Activation(tf.keras.layers.LeakyReLU(alpha=0.25))(x)\n",
        "#weight_decay = 1e-4\n",
        "\n",
        "input = keras.Input(shape=(19, 19, PLANES), name='board')\n",
        "\n",
        "x = layers.Conv2D(38, 3, padding='same')(input)\n",
        "x = BatchNormalization()(x)\n",
        "x = Activation('relu')(x)\n",
        "\n",
        "x = layers.Conv2D(64, 3, padding='same')(x)\n",
        "x = BatchNormalization()(x)\n",
        "x = Activation('relu')(x)\n",
        "\n",
        "x = layers.Conv2D(128, 3, padding='same')(x)\n",
        "x = BatchNormalization()(x)\n",
        "x = Activation('relu')(x)\n",
        "x = Dropout(0.2)(x)\n",
        "\n",
        "ident = x\n",
        "x = layers.Conv2D(128, 3, padding='same')(x)\n",
        "x = BatchNormalization()(x)\n",
        "x = Activation('relu')(x)\n",
        "x = layers.Conv2D(128, 3, padding='same')(x)\n",
        "x = BatchNormalization()(x)\n",
        "x = Activation('relu')(x)\n",
        "x = Dropout(0.4)(x)\n",
        "x = layers.add([ident,x])\n",
        "ident2 = x\n",
        "x = layers.Conv2D(128, 3, padding='same')(x)\n",
        "x = BatchNormalization()(x)\n",
        "x = Activation('relu')(x)\n",
        "x = layers.Conv2D(128, 3, padding='same')(x)\n",
        "x = BatchNormalization()(x)\n",
        "x = Activation('relu')(x)\n",
        "x = Dropout(0.4)(x)\n",
        "x = layers.add([ident2,x])\n",
        "\n",
        "policy_head = layers.Conv2D(2, 1, padding='same')(x)\n",
        "policy_head = BatchNormalization()(policy_head)\n",
        "policy_head = Activation('relu')(policy_head)\n",
        "policy_head = layers.Flatten()(policy_head)\n",
        "policy_head = layers.Dense(MOVES, activation='softmax', name='policy')(policy_head)\n",
        "\n",
        "value_head = layers.Conv2D(32, 3, padding='same')(x)\n",
        "value_head = Activation('relu')(value_head)\n",
        "value_head = layers.Conv2D(1, 1, padding='same')(value_head)\n",
        "value_head = Activation('relu')(value_head)\n",
        "value_head = layers.ZeroPadding2D(padding=(1, 1))(value_head)\n",
        "value_head = layers.AveragePooling2D(strides=2)(value_head)\n",
        "value_head = layers.ZeroPadding2D(padding=(1, 1))(value_head)\n",
        "value_head = layers.AveragePooling2D(strides=2)(value_head)\n",
        "value_head = layers.Conv2D(1, 1, padding='same')(value_head)\n",
        "value_head = layers.Flatten()(value_head)\n",
        "value_head = layers.Dense(256, activation='relu')(value_head)\n",
        "value_head = layers.Dense(1, activation='tanh', name='value')(value_head)\n",
        "\n",
        "model = keras.Model(inputs=input, outputs=[policy_head, value_head])\n",
        "model.summary()\n",
        "\n",
        "#Name of the model, to save it later\n",
        "now =  datetime.datetime.now()\n",
        "date_time = now.strftime(\"%m-%d-%Y_%H-%M-%S\")\n",
        "save_dir = os.path.join(os.getcwd(), 'models')\n",
        "model_name = 'dl_proj_model_' + date_time + '.h5'"
      ],
      "execution_count": 0,
      "outputs": []
    }
  ]
}